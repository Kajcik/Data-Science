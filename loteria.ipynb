{
  "nbformat": 4,
  "nbformat_minor": 0,
  "metadata": {
    "colab": {
      "provenance": [],
      "authorship_tag": "ABX9TyOhYRH4sgCKhv9ugfvHt+RG",
      "include_colab_link": true
    },
    "kernelspec": {
      "name": "python3",
      "display_name": "Python 3"
    },
    "language_info": {
      "name": "python"
    }
  },
  "cells": [
    {
      "cell_type": "markdown",
      "metadata": {
        "id": "view-in-github",
        "colab_type": "text"
      },
      "source": [
        "<a href=\"https://colab.research.google.com/github/Kajcik/Data-Science/blob/main/loteria.ipynb\" target=\"_parent\"><img src=\"https://colab.research.google.com/assets/colab-badge.svg\" alt=\"Open In Colab\"/></a>"
      ]
    },
    {
      "cell_type": "code",
      "source": [
        "def loteria(number):\n",
        "    if number < 1 or number > 250:\n",
        "        return \"Liczba musi być w przedziale od 1 do 250\"\n",
        "\n",
        "    if number % 4 == 0 and number % 7 == 0:\n",
        "        return \"duża nagroda\"\n",
        "    elif number % 4 == 0:\n",
        "        return \"mała nagroda\"\n",
        "    elif number % 7 == 0:\n",
        "        return \"średnia nagroda\"\n",
        "    elif number == 117:\n",
        "        return \"główna nagroda\"\n",
        "    else:\n",
        "        return \"spróbuj jeszcze raz\"\n",
        "\n",
        "# Przykład użycia:\n",
        "number = int(input(\"Podaj liczbę od 1 do 250: \"))\n",
        "print(loteria(number))\n"
      ],
      "metadata": {
        "id": "Am85G9NerBup"
      },
      "execution_count": null,
      "outputs": []
    }
  ]
}