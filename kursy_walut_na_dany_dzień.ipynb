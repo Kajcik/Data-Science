{
  "nbformat": 4,
  "nbformat_minor": 0,
  "metadata": {
    "colab": {
      "provenance": [],
      "authorship_tag": "ABX9TyMnsBLJlUPURqPlqj13vphD",
      "include_colab_link": true
    },
    "kernelspec": {
      "name": "python3",
      "display_name": "Python 3"
    },
    "language_info": {
      "name": "python"
    }
  },
  "cells": [
    {
      "cell_type": "markdown",
      "metadata": {
        "id": "view-in-github",
        "colab_type": "text"
      },
      "source": [
        "<a href=\"https://colab.research.google.com/github/Kajcik/Data-Science/blob/main/kursy_walut_na_dany_dzie%C5%84.ipynb\" target=\"_parent\"><img src=\"https://colab.research.google.com/assets/colab-badge.svg\" alt=\"Open In Colab\"/></a>"
      ]
    },
    {
      "cell_type": "code",
      "execution_count": null,
      "metadata": {
        "id": "nzSqAb9WPzSm"
      },
      "outputs": [],
      "source": [
       
      ]
    },
    {
      "cell_type": "code",
      "source": [
        "import requests\n",
        "\n",
        "print (\"KALKULATOR WALUT\")\n",
        "\n",
        "waluta = input(\"Podaj walute: \")\n",
        "\n",
        "data = input(\"Podaj date w formacie rrrr-mm-dd: \")\n",
        "\n",
        "link = f\"http://api.nbp.pl/api/exchangerates/rates/A/{waluta}/{data}/\"\n",
        "\n",
        "strona = requests.get(link)\n",
        "\n",
        "dane = strona.json()\n",
        "\n",
        "kurs = dane['rates'][0]['mid']\n",
        "\n",
        "print(f\"1 {waluta} = {kurs} pln\")\n"
      ],
      "metadata": {
        "id": "f78S7ocJ09bm",
        "outputId": "6eb985bb-18cf-45ad-9986-009f8406d4c4",
        "colab": {
          "base_uri": "https://localhost:8080/"
        }
      },
      "execution_count": 9,
      "outputs": [
        {
          "output_type": "stream",
          "name": "stdout",
          "text": [
            "KALKULATOR WALUT\n",
            "Podaj walute: usd\n",
            "Podaj date w formacie rrrr-mm-dd: 2023-01-04\n",
            "1 usd = 4.3998 pln\n"
          ]
        }
      ]
    }
  ]
}
